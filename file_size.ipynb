{
 "cells": [
  {
   "cell_type": "code",
   "execution_count": 22,
   "metadata": {},
   "outputs": [
    {
     "name": "stdout",
     "output_type": "stream",
     "text": [
      "150302307.thumb.jpg\n",
      "150302397.jpg\n",
      "150302515.jpg\n",
      "150302647.jpg\n",
      "150302686.jpg\n",
      "150302710.jpg\n",
      "150302723.jpg\n",
      "150302770.jpg\n",
      "150302772.jpg\n",
      "150302795.jpg\n",
      "150302873.jpg\n",
      "150302884.jpg\n",
      "150303002.jpg\n",
      "150303015.jpg\n",
      "150303259.jpg\n",
      "150303291.jpg\n",
      "150303318.jpg\n",
      "150303349.jpg\n",
      "150303513.jpg\n",
      "150303539.jpg\n",
      "150303565.jpg\n",
      "150303760.jpg\n",
      "150303767.jpg\n",
      "150303829.jpg\n",
      "150304122.jpg\n",
      "150304126.jpg\n",
      "150304132.jpg\n",
      "150304216.jpg\n",
      "150304261.jpg\n",
      "150304294.jpg\n",
      "150304381.jpg\n",
      "150304396.jpg\n",
      "150304410.jpg\n",
      "150304421.jpg\n",
      "150304453.jpg\n",
      "150304480.thumb.jpg\n",
      "150304536.jpg\n",
      "150304550.jpg\n",
      "150304672.jpg\n",
      "150304734.jpg\n",
      "150304740.jpg\n",
      "150304828.jpg\n",
      "150304871.jpg\n"
     ]
    }
   ],
   "source": [
    "import os\n",
    "\n",
    "file_dir = 'bmw10_ims/10/'\n",
    "\n",
    "for filename in os.listdir(file_dir):\n",
    "    if filename.endswith(\".jpeg\") or filename.endswith(\".jpg\"):         \n",
    "        file_size = os.stat(file_dir+filename)\n",
    "        # checks if file size is less than 150kb\n",
    "        if file_size.st_size/1000 < 150 :\n",
    "            print (file_dir)\n",
    "            # deletes files less than 150kb\n",
    "            os.remove(file_dir+filename)      \n",
    "        continue\n",
    "    else:        \n",
    "        continue\n"
   ]
  }
 ],
 "metadata": {
  "interpreter": {
   "hash": "b9038f75dbd83ac29c987b062ef545e9ffef17a6fb91d60f49002e5b6a71f05c"
  },
  "kernelspec": {
   "display_name": "Python 3.7.11 ('tensor_env')",
   "language": "python",
   "name": "python3"
  },
  "language_info": {
   "codemirror_mode": {
    "name": "ipython",
    "version": 3
   },
   "file_extension": ".py",
   "mimetype": "text/x-python",
   "name": "python",
   "nbconvert_exporter": "python",
   "pygments_lexer": "ipython3",
   "version": "3.9.7"
  },
  "orig_nbformat": 4
 },
 "nbformat": 4,
 "nbformat_minor": 2
}
